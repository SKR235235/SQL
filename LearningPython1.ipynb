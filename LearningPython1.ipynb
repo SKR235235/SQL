{
 "cells": [
  {
   "cell_type": "code",
   "execution_count": null,
   "id": "ae56331f-ccba-42d8-b464-0a0b017721d0",
   "metadata": {
    "tags": []
   },
   "outputs": [],
   "source": [
    "print(\"\\\\\")"
   ]
  },
  {
   "cell_type": "code",
   "execution_count": null,
   "id": "842197bd-29d8-4b2c-8d3f-6d9adb6bccb1",
   "metadata": {},
   "outputs": [],
   "source": []
  },
  {
   "cell_type": "code",
   "execution_count": null,
   "id": "cce08f42-3120-4337-9b36-ff000748a2c5",
   "metadata": {},
   "outputs": [],
   "source": [
    "print(\"The itsy bitsy spider\\nclimbed up the waterspout.\")\n",
    "print()\n",
    "print(\"Down came the rain\\nand washed the spider out.\")"
   ]
  },
  {
   "cell_type": "code",
   "execution_count": null,
   "id": "c623d542-3a61-4aa0-b0c6-f28814ad4932",
   "metadata": {},
   "outputs": [],
   "source": []
  },
  {
   "cell_type": "code",
   "execution_count": null,
   "id": "ae710992-01b2-4a15-b5ba-d7178739778c",
   "metadata": {},
   "outputs": [],
   "source": [
    "print(\"This is Python \\r lesson.\")"
   ]
  },
  {
   "cell_type": "code",
   "execution_count": null,
   "id": "d41e3481-c346-4bb8-a4a0-ed83e7a54e30",
   "metadata": {},
   "outputs": [],
   "source": []
  },
  {
   "cell_type": "code",
   "execution_count": null,
   "id": "344e68b0-886b-4fe6-af8d-cc8867428d42",
   "metadata": {},
   "outputs": [],
   "source": [
    "print(\"This is Python\\tlesson.\")"
   ]
  },
  {
   "cell_type": "code",
   "execution_count": null,
   "id": "8198fa94-f46a-41bd-8039-20d57ff9973d",
   "metadata": {},
   "outputs": [],
   "source": []
  },
  {
   "cell_type": "code",
   "execution_count": null,
   "id": "5c4c7026-791f-4adb-a390-648964cc1b3e",
   "metadata": {},
   "outputs": [],
   "source": [
    "print(\"This is Python\\blesson.\")"
   ]
  },
  {
   "cell_type": "code",
   "execution_count": null,
   "id": "58eef894-0ab0-41b5-b7be-fede297245d3",
   "metadata": {},
   "outputs": [],
   "source": []
  },
  {
   "cell_type": "code",
   "execution_count": null,
   "id": "b99eb0fa-7569-4762-8bf7-ffd8bbd1e036",
   "metadata": {},
   "outputs": [],
   "source": [
    "print(\"The itsy bitsy spider\" , \"climbed up\" , \"the waterspout.\")\n",
    "\n",
    "print(\"Hello. I am Data Analyst.\", \"I love learning Python\")\n",
    "\n",
    "print(\"The itsy bitsy spider\" +  \"climbed up\" + \"the waterspout.\")"
   ]
  },
  {
   "cell_type": "code",
   "execution_count": null,
   "id": "c0110312-c7de-4ca6-a9d3-7372641ed902",
   "metadata": {},
   "outputs": [],
   "source": []
  },
  {
   "cell_type": "code",
   "execution_count": null,
   "id": "6a094a7e-f3c3-47d6-ae66-554576add3a2",
   "metadata": {},
   "outputs": [],
   "source": [
    "print(\"2\"+\"4\")"
   ]
  },
  {
   "cell_type": "code",
   "execution_count": null,
   "id": "65bafb24-ffc7-4b9d-bbf0-0876b2a52ca0",
   "metadata": {},
   "outputs": [],
   "source": []
  },
  {
   "cell_type": "code",
   "execution_count": null,
   "id": "cd2d57c6-f922-4360-b1e9-b203105db0b0",
   "metadata": {},
   "outputs": [],
   "source": [
    "print(\"My name is\", \"Python.\", end=\" \")"
   ]
  },
  {
   "cell_type": "code",
   "execution_count": null,
   "id": "56de9cbe-11b7-452d-9649-f9576dbf3ab7",
   "metadata": {},
   "outputs": [],
   "source": []
  },
  {
   "cell_type": "code",
   "execution_count": null,
   "id": "e79577af-44d4-47ed-bbc6-c9f7d2032656",
   "metadata": {},
   "outputs": [],
   "source": [
    "print(\"Monty Python.\")\n",
    "print(\"My name is\", \"Python.\", end=\"*\")"
   ]
  },
  {
   "cell_type": "code",
   "execution_count": null,
   "id": "d585bb7d-5284-4a8f-ac41-bfdb272a1a30",
   "metadata": {},
   "outputs": [],
   "source": []
  },
  {
   "cell_type": "code",
   "execution_count": null,
   "id": "b8193973-ac21-4f12-acc3-4f8ede40abdf",
   "metadata": {},
   "outputs": [],
   "source": [
    "print(\"Monty Python.\")\n",
    "print(\"My name is\",end=\"*\", \"Python.\")"
   ]
  },
  {
   "cell_type": "code",
   "execution_count": null,
   "id": "20546e42-c6f0-47fb-87aa-0d35546da799",
   "metadata": {},
   "outputs": [],
   "source": []
  },
  {
   "cell_type": "code",
   "execution_count": null,
   "id": "3c55a902-135a-42d3-ab8e-78a7a2a0735e",
   "metadata": {},
   "outputs": [],
   "source": [
    "print(\"Monty Python.\")\n",
    "print(\"My\", \"name\", \"is\", \"Monty\", \"Python.\", sep=\"-\")"
   ]
  },
  {
   "cell_type": "code",
   "execution_count": null,
   "id": "0d9855f9-8c4d-4490-b086-768f3e7affe1",
   "metadata": {},
   "outputs": [],
   "source": []
  },
  {
   "cell_type": "code",
   "execution_count": null,
   "id": "986ee7e9-3389-4e26-84a0-f3905c2650ee",
   "metadata": {},
   "outputs": [],
   "source": [
    "print(\"My\", \"name\", \"is\", \"Monty\", \"Python.\", sep=\"-\")\n",
    "print(\"My\", \"name\", \"is\", \"Monty\", \"Python.\", sep=\"\")\n",
    "print(\"My\", \"name\" + \"is\" + \"Monty\" + \"Python.\")"
   ]
  },
  {
   "cell_type": "code",
   "execution_count": null,
   "id": "dd79236b-42c8-4edb-bbe7-2ab026118531",
   "metadata": {},
   "outputs": [],
   "source": [
    " "
   ]
  },
  {
   "cell_type": "code",
   "execution_count": null,
   "id": "1411e4a5-4961-45da-b5f4-871f261859ac",
   "metadata": {},
   "outputs": [],
   "source": [
    "print(\"My\", \"name\", \"is\", \"Monty\", \"Python.\", sep=\"12\")"
   ]
  },
  {
   "cell_type": "code",
   "execution_count": null,
   "id": "866f37f7-730e-4543-9e01-369cec0428fd",
   "metadata": {},
   "outputs": [],
   "source": [
    "print((2.5 + (12**2 + 52)**0.5)-3)"
   ]
  },
  {
   "cell_type": "code",
   "execution_count": null,
   "id": "6eef21ec-c738-4e97-b22b-83d285e0b20b",
   "metadata": {
    "tags": []
   },
   "outputs": [],
   "source": [
    "myName = \"Subir Kumar Roy\"\n",
    "print(myName)"
   ]
  },
  {
   "cell_type": "code",
   "execution_count": null,
   "id": "f5c83d52-0b1b-4d51-aff2-5a2aefd4ffc4",
   "metadata": {
    "tags": []
   },
   "outputs": [],
   "source": [
    "myName = \"Subir Kumar Roy\"\n",
    "print(myName)\n",
    "print(type(myName))\n",
    "print(len(myName))"
   ]
  },
  {
   "cell_type": "code",
   "execution_count": null,
   "id": "e6fdf465-e67b-4b97-8c50-a2d2bc84b977",
   "metadata": {
    "tags": []
   },
   "outputs": [],
   "source": [
    "print(\"Tell me anything...\")\n",
    "anything = input()\n",
    "print(\"Hmm...\", anything, \"... Really?\")"
   ]
  },
  {
   "cell_type": "code",
   "execution_count": null,
   "id": "3d46959c-5909-4fd3-aa41-23d30d92885d",
   "metadata": {
    "tags": []
   },
   "outputs": [],
   "source": [
    "c = int(1)\n",
    "b = int(3.8)\n",
    "c = int(\"5\")\n",
    " \n",
    "print(b,c)"
   ]
  },
  {
   "cell_type": "code",
   "execution_count": null,
   "id": "2562bac7-01e0-49a3-b4f3-ed97c21d94ee",
   "metadata": {
    "tags": []
   },
   "outputs": [],
   "source": [
    "print(str(1234))\n",
    "print(type(str(1234)))"
   ]
  },
  {
   "cell_type": "code",
   "execution_count": null,
   "id": "b17d6c71-437c-40da-b9f3-5d8fcb6ae808",
   "metadata": {
    "tags": []
   },
   "outputs": [],
   "source": [
    "print(float(\"3.14\"))\n",
    " \n",
    "print(type(float(\"3.14\")))"
   ]
  },
  {
   "cell_type": "code",
   "execution_count": 20,
   "id": "78c32451-fe01-4d3b-951a-4ffbd279571b",
   "metadata": {
    "tags": []
   },
   "outputs": [
    {
     "name": "stdin",
     "output_type": "stream",
     "text": [
      "Enter a number:  20\n"
     ]
    },
    {
     "name": "stdout",
     "output_type": "stream",
     "text": [
      "20.0 to the power of 2 is 400.0\n"
     ]
    }
   ],
   "source": [
    "anything = float(input(\"Enter a number: \"))\n",
    "\n",
    "something = anything ** 2.0\n",
    "\n",
    "print(anything, \"to the power of 2 is\", something)\n"
   ]
  },
  {
   "cell_type": "code",
   "execution_count": null,
   "id": "3cb0dafa-bb37-4297-b9a6-d3576d07b472",
   "metadata": {
    "tags": []
   },
   "outputs": [],
   "source": [
    "anything = float(input(\"Enter a number: \"))\n",
    "\n",
    "something = anything ** 2.0\n",
    "\n",
    "print(anything, \"to the power of 2 is\", something)"
   ]
  },
  {
   "cell_type": "code",
   "execution_count": null,
   "id": "f35ae6a1-7fe8-4f33-b1c0-d1056a236ced",
   "metadata": {
    "tags": []
   },
   "outputs": [],
   "source": [
    "anything = float(input(\"Enter a number: \"))\n",
    "\n",
    "something = anything ** 2.0\n",
    "\n",
    "print(anything, \"to the power of 2 is\", something)"
   ]
  },
  {
   "cell_type": "code",
   "execution_count": null,
   "id": "649deb1f-15c0-4fcc-9307-b060a7deb78e",
   "metadata": {},
   "outputs": [],
   "source": [
    "# This program says hello and asks for my name.\n",
    "print('Hello, world!')\n",
    "print('What is your name?')    # ask for their name\n",
    "myName = input()\n",
    "print('It is good to meet you, ' + myName)\n",
    "print('The length of your name is:')\n",
    "print(len(myName))\n",
    "print('What is your age?')    # ask for their age\n",
    "myAge = input()\n",
    "print('You will be ' + str(int(myAge) + 1) + ' in a year.')"
   ]
  },
  {
   "cell_type": "code",
   "execution_count": 22,
   "id": "488dcc5a-12d1-4d14-bc07-088e3ee315a0",
   "metadata": {
    "tags": []
   },
   "outputs": [
    {
     "name": "stdin",
     "output_type": "stream",
     "text": [
      "What is your first number? 10\n",
      "Now add your second number? 10\n"
     ]
    },
    {
     "name": "stdout",
     "output_type": "stream",
     "text": [
      "20.0\n"
     ]
    }
   ],
   "source": [
    "num1 = float(input(\"What is your first number?\"))\n",
    "num2 = float(input(\"Now add your second number?\"))\n",
    "\n",
    "Answer = num1 + num2\n",
    "print(Answer)"
   ]
  },
  {
   "cell_type": "code",
   "execution_count": null,
   "id": "7ff41b86-9919-43b0-97f1-ae89844c16d9",
   "metadata": {
    "tags": []
   },
   "outputs": [],
   "source": [
    "length = float(input(\"Enter the length of the rectangle: \"))\n",
    "width = float(input(\"Enter the width of the rectangle: \"))\n",
    "\n",
    "area = length * width\n",
    "print(area)"
   ]
  },
  {
   "cell_type": "code",
   "execution_count": 27,
   "id": "c7226bb3-ac33-42ce-bfa6-fbf9f8c75453",
   "metadata": {
    "tags": []
   },
   "outputs": [
    {
     "name": "stdin",
     "output_type": "stream",
     "text": [
      "What is your name?  Subir\n",
      "What is your age?  20\n"
     ]
    },
    {
     "name": "stdout",
     "output_type": "stream",
     "text": [
      "Hello  Subir who is  20.0 .\n"
     ]
    }
   ],
   "source": [
    "Name = input(\"What is your name? \")\n",
    "Age = float(input(\"What is your age? \"))\n",
    "\n",
    "print(\"Hello \",  Name, \"who is \", Age, \".\") "
   ]
  },
  {
   "cell_type": "code",
   "execution_count": 25,
   "id": "fb94df8c-7072-4551-a8b3-461d920f0d3f",
   "metadata": {
    "tags": []
   },
   "outputs": [
    {
     "name": "stdin",
     "output_type": "stream",
     "text": [
      "What is your name?  subir\n",
      "What is your age?  20\n"
     ]
    },
    {
     "name": "stdout",
     "output_type": "stream",
     "text": [
      "Hello  subir 20\n"
     ]
    }
   ],
   "source": [
    "Name = input(\"What is your name? \")\n",
    "Age = int(input(\"What is your age? \"))\n",
    "\n",
    "print(\"Hello \", Name, Age) "
   ]
  },
  {
   "cell_type": "code",
   "execution_count": null,
   "id": "e37ef275-b2d3-4acd-91ca-a59edbe7726d",
   "metadata": {
    "tags": []
   },
   "outputs": [],
   "source": [
    "print(F = (9//5(C+32))"
   ]
  },
  {
   "cell_type": "code",
   "execution_count": null,
   "id": "5e940797-f870-4a73-a250-b2004483b982",
   "metadata": {},
   "outputs": [],
   "source": [
    "print(2 == 2)"
   ]
  },
  {
   "cell_type": "code",
   "execution_count": 2,
   "id": "b31df485-c757-473a-b1de-b781e3de92b3",
   "metadata": {
    "tags": []
   },
   "outputs": [
    {
     "name": "stdout",
     "output_type": "stream",
     "text": [
      "False\n"
     ]
    }
   ],
   "source": [
    "print(1 == 2)"
   ]
  },
  {
   "cell_type": "code",
   "execution_count": 4,
   "id": "1e41865f-4192-41da-be4b-4d4d355ae14d",
   "metadata": {
    "tags": []
   },
   "outputs": [
    {
     "name": "stdout",
     "output_type": "stream",
     "text": [
      "True\n"
     ]
    }
   ],
   "source": [
    "var = 0  # Assigning 0 to var\n",
    "print(var == 0)"
   ]
  },
  {
   "cell_type": "code",
   "execution_count": 1,
   "id": "a7b9f2b6-c5be-4482-854e-c84936ad536f",
   "metadata": {
    "tags": []
   },
   "outputs": [
    {
     "ename": "SyntaxError",
     "evalue": "invalid non-printable character U+00A0 (367942139.py, line 1)",
     "output_type": "error",
     "traceback": [
      "\u001b[1;36m  Cell \u001b[1;32mIn[1], line 1\u001b[1;36m\u001b[0m\n\u001b[1;33m    var = 1\u001b[0m\n\u001b[1;37m         ^\u001b[0m\n\u001b[1;31mSyntaxError\u001b[0m\u001b[1;31m:\u001b[0m invalid non-printable character U+00A0\n"
     ]
    }
   ],
   "source": [
    "var = 1\n",
    "print(var != 0)"
   ]
  },
  {
   "cell_type": "code",
   "execution_count": 3,
   "id": "26aa72c5-710d-42fa-9933-6a85c69a4fc5",
   "metadata": {
    "tags": []
   },
   "outputs": [
    {
     "ename": "SyntaxError",
     "evalue": "invalid non-printable character U+00A0 (21741119.py, line 1)",
     "output_type": "error",
     "traceback": [
      "\u001b[1;36m  Cell \u001b[1;32mIn[3], line 1\u001b[1;36m\u001b[0m\n\u001b[1;33m    print(centigrade_outside >= 0.0)  # Greater than or equal to\u001b[0m\n\u001b[1;37m                               ^\u001b[0m\n\u001b[1;31mSyntaxError\u001b[0m\u001b[1;31m:\u001b[0m invalid non-printable character U+00A0\n"
     ]
    }
   ],
   "source": [
    "print(centigrade_outside >= 0.0)  # Greater than or equal to\n"
   ]
  },
  {
   "cell_type": "code",
   "execution_count": 4,
   "id": "8711a7a6-7c08-4a83-8b31-9308ab9f0a16",
   "metadata": {
    "tags": []
   },
   "outputs": [
    {
     "ename": "SyntaxError",
     "evalue": "invalid non-printable character U+00A0 (2667851295.py, line 1)",
     "output_type": "error",
     "traceback": [
      "\u001b[1;36m  Cell \u001b[1;32mIn[4], line 1\u001b[1;36m\u001b[0m\n\u001b[1;33m    print(centigrade_outside >= 0.0)\u001b[0m\n\u001b[1;37m                               ^\u001b[0m\n\u001b[1;31mSyntaxError\u001b[0m\u001b[1;31m:\u001b[0m invalid non-printable character U+00A0\n"
     ]
    }
   ],
   "source": [
    "print(centigrade_outside >= 0.0)\n"
   ]
  },
  {
   "cell_type": "code",
   "execution_count": 5,
   "id": "7859675e-8557-457d-b1ea-523951d1eed4",
   "metadata": {
    "tags": []
   },
   "outputs": [
    {
     "ename": "SyntaxError",
     "evalue": "invalid non-printable character U+00A0 (420806232.py, line 1)",
     "output_type": "error",
     "traceback": [
      "\u001b[1;36m  Cell \u001b[1;32mIn[5], line 1\u001b[1;36m\u001b[0m\n\u001b[1;33m    print(current_velocity_mph < 85)\u001b[0m\n\u001b[1;37m                                ^\u001b[0m\n\u001b[1;31mSyntaxError\u001b[0m\u001b[1;31m:\u001b[0m invalid non-printable character U+00A0\n"
     ]
    }
   ],
   "source": [
    "print(current_velocity_mph < 85)  "
   ]
  },
  {
   "cell_type": "code",
   "execution_count": 6,
   "id": "e412e09c-4e79-4095-b6cb-cc3a30ead5f0",
   "metadata": {
    "tags": []
   },
   "outputs": [
    {
     "ename": "SyntaxError",
     "evalue": "invalid non-printable character U+00A0 (3594129543.py, line 1)",
     "output_type": "error",
     "traceback": [
      "\u001b[1;36m  Cell \u001b[1;32mIn[6], line 1\u001b[1;36m\u001b[0m\n\u001b[1;33m    print(current_velocity_mph <= 85)\u001b[0m\n\u001b[1;37m                                 ^\u001b[0m\n\u001b[1;31mSyntaxError\u001b[0m\u001b[1;31m:\u001b[0m invalid non-printable character U+00A0\n"
     ]
    }
   ],
   "source": [
    "print(current_velocity_mph <= 85)  "
   ]
  },
  {
   "cell_type": "code",
   "execution_count": 7,
   "id": "53cb1cb5-95d5-447d-8f77-a2feb4e8598d",
   "metadata": {
    "tags": []
   },
   "outputs": [
    {
     "name": "stdout",
     "output_type": "stream",
     "text": [
      "Let's play a guessing game\n"
     ]
    },
    {
     "name": "stdin",
     "output_type": "stream",
     "text": [
      "Enter a number 10\n"
     ]
    },
    {
     "name": "stdout",
     "output_type": "stream",
     "text": [
      "Not quite write. Try Again\n"
     ]
    },
    {
     "name": "stdin",
     "output_type": "stream",
     "text": [
      "Enter a number 50\n"
     ]
    },
    {
     "name": "stdout",
     "output_type": "stream",
     "text": [
      "Little higher\n"
     ]
    },
    {
     "name": "stdin",
     "output_type": "stream",
     "text": [
      "Enter a number 55\n"
     ]
    },
    {
     "name": "stdout",
     "output_type": "stream",
     "text": [
      "Little higher\n"
     ]
    },
    {
     "name": "stdin",
     "output_type": "stream",
     "text": [
      "Enter a number 60\n"
     ]
    },
    {
     "name": "stdout",
     "output_type": "stream",
     "text": [
      "Little lower\n"
     ]
    },
    {
     "name": "stdin",
     "output_type": "stream",
     "text": [
      "Enter a number 59\n"
     ]
    },
    {
     "name": "stdout",
     "output_type": "stream",
     "text": [
      "Little lower\n"
     ]
    },
    {
     "name": "stdin",
     "output_type": "stream",
     "text": [
      "Enter a number 58\n"
     ]
    },
    {
     "name": "stdout",
     "output_type": "stream",
     "text": [
      "Correct guess\n"
     ]
    }
   ],
   "source": [
    "target = 58\n",
    "print(\"Let's play a guessing game\")\n",
    "user_entry = float(input(\"Enter a number\"))\n",
    " \n",
    "if user_entry == target:\n",
    "    print(\"You are a genius\")\n",
    " \n",
    "print(\"Not quite write. Try Again\")\n",
    "while target!=user_entry:\n",
    "    user_entry = float(input(\"Enter a number\"))\n",
    "    if target > user_entry:\n",
    "        print(\"Little higher\")\n",
    "    elif target < user_entry:\n",
    "        print(\"Little lower\")\n",
    "    else:\n",
    "        print(\"Correct guess\")\n",
    "        break"
   ]
  },
  {
   "cell_type": "code",
   "execution_count": 13,
   "id": "ab150bf7-aba1-4ad1-ae5b-999b68822709",
   "metadata": {
    "tags": []
   },
   "outputs": [
    {
     "ename": "SyntaxError",
     "evalue": "invalid non-printable character U+00A0 (20587476.py, line 1)",
     "output_type": "error",
     "traceback": [
      "\u001b[1;36m  Cell \u001b[1;32mIn[13], line 1\u001b[1;36m\u001b[0m\n\u001b[1;33m    a = 200\u001b[0m\n\u001b[1;37m       ^\u001b[0m\n\u001b[1;31mSyntaxError\u001b[0m\u001b[1;31m:\u001b[0m invalid non-printable character U+00A0\n"
     ]
    }
   ],
   "source": [
    "a = 200\n",
    "b = 33\n",
    "if b > a:\n",
    "print(\"b is greater than a\")\n",
    "elif a == b:\n",
    "    print(\"a and b are equal\")\n",
    "else:\n",
    "    print(\"a is greater than b\")\n"
   ]
  },
  {
   "cell_type": "code",
   "execution_count": 14,
   "id": "f7b2d64e-5270-428f-8791-428d29e7b374",
   "metadata": {
    "tags": []
   },
   "outputs": [
    {
     "name": "stdout",
     "output_type": "stream",
     "text": [
      "a is greater than b\n"
     ]
    }
   ],
   "source": [
    "a = 200\n",
    "b = 33\n",
    "\n",
    "if b > a:\n",
    "    print(\"b is greater than a\")\n",
    "elif a == b:\n",
    "    print(\"a and b are equal\")\n",
    "else:\n",
    "    print(\"a is greater than b\")"
   ]
  },
  {
   "cell_type": "code",
   "execution_count": 11,
   "id": "2601cb73-ce4c-4acd-85e4-9b34d2ef383c",
   "metadata": {
    "tags": []
   },
   "outputs": [
    {
     "ename": "NameError",
     "evalue": "name 'x' is not defined",
     "output_type": "error",
     "traceback": [
      "\u001b[1;31m---------------------------------------------------------------------------\u001b[0m",
      "\u001b[1;31mNameError\u001b[0m                                 Traceback (most recent call last)",
      "Cell \u001b[1;32mIn[11], line 1\u001b[0m\n\u001b[1;32m----> 1\u001b[0m \u001b[38;5;28;01mif\u001b[39;00m x \u001b[38;5;241m>\u001b[39m \u001b[38;5;241m0\u001b[39m:\n\u001b[0;32m      2\u001b[0m     \u001b[38;5;28mprint\u001b[39m(\u001b[38;5;124m\"\u001b[39m\u001b[38;5;124mPositive\u001b[39m\u001b[38;5;124m\"\u001b[39m)\n\u001b[0;32m      3\u001b[0m \u001b[38;5;28;01melif\u001b[39;00m x \u001b[38;5;241m==\u001b[39m \u001b[38;5;241m0\u001b[39m:\n",
      "\u001b[1;31mNameError\u001b[0m: name 'x' is not defined"
     ]
    }
   ],
   "source": [
    "if x > 0:\n",
    "    print(\"Positive\")\n",
    "elif x == 0:\n",
    "    print(\"Zero\")\n",
    "else:\n",
    "    print(\"Negative\")"
   ]
  },
  {
   "cell_type": "code",
   "execution_count": 12,
   "id": "3e433ee9-7c8a-46c2-b28d-ea3df155810d",
   "metadata": {
    "tags": []
   },
   "outputs": [
    {
     "name": "stdin",
     "output_type": "stream",
     "text": [
      "Enter a value (type 'exit' to end):  hi\n"
     ]
    },
    {
     "name": "stdout",
     "output_type": "stream",
     "text": [
      "You entered: hi\n"
     ]
    },
    {
     "name": "stdin",
     "output_type": "stream",
     "text": [
      "Enter a value (type 'exit' to end):  exit\n"
     ]
    },
    {
     "name": "stdout",
     "output_type": "stream",
     "text": [
      "Exiting the program.\n"
     ]
    }
   ],
   "source": [
    "# Initialize a variable\n",
    "user_input = ''\n",
    "\n",
    "# While loop that continues until the user enters 'exit'\n",
    "while user_input.lower() != 'exit':\n",
    "    # Get user input\n",
    "    user_input = input(\"Enter a value (type 'exit' to end): \")\n",
    "\n",
    "    # Check if the user wants to exit\n",
    "    if user_input.lower() == 'exit':\n",
    "        print(\"Exiting the program.\")\n",
    "    elif user_input.isdigit():\n",
    "        # Check if the input is a digit\n",
    "        print(\"You entered a digit.\")\n",
    "    else:\n",
    "        print(\"You entered:\", user_input)"
   ]
  },
  {
   "cell_type": "code",
   "execution_count": 17,
   "id": "629bcd73-d04e-4147-91ce-8c50f385f02d",
   "metadata": {
    "tags": []
   },
   "outputs": [
    {
     "name": "stdin",
     "output_type": "stream",
     "text": [
      " 100\n"
     ]
    },
    {
     "name": "stdout",
     "output_type": "stream",
     "text": [
      "false\n"
     ]
    },
    {
     "name": "stdin",
     "output_type": "stream",
     "text": [
      " 50\n"
     ]
    },
    {
     "name": "stdout",
     "output_type": "stream",
     "text": [
      "true\n"
     ]
    }
   ],
   "source": [
    "n1=float(input())\n",
    "n>=100\n",
    "print (\"false\")\n",
    "n2=float(input())\n",
    "n<100\n",
    "print(\"true\")"
   ]
  },
  {
   "cell_type": "code",
   "execution_count": 18,
   "id": "6d28380c-83ca-45dd-bea3-9d657610a1cb",
   "metadata": {
    "tags": []
   },
   "outputs": [
    {
     "name": "stdin",
     "output_type": "stream",
     "text": [
      "what is your number 50\n"
     ]
    },
    {
     "name": "stdout",
     "output_type": "stream",
     "text": [
      "false\n"
     ]
    }
   ],
   "source": [
    "n = int(input(\"what is your number\"))\n",
    "\n",
    "if (n<100):\n",
    "\n",
    "    print(\"false\")\n",
    "\n",
    "elif (n>=100):\n",
    "\n",
    "    print(\"true\")"
   ]
  },
  {
   "cell_type": "code",
   "execution_count": 19,
   "id": "82b9f9b3-a38d-40bf-a36b-a15eb8b4b2da",
   "metadata": {
    "tags": []
   },
   "outputs": [
    {
     "name": "stdout",
     "output_type": "stream",
     "text": [
      "apple\n",
      "banana\n",
      "berry\n"
     ]
    }
   ],
   "source": [
    "fruits = [\"apple\", \"banana\", \"berry\"]\n",
    "# this is an example of a list\n",
    " \n",
    "for i in fruits:\n",
    "    print(i)"
   ]
  },
  {
   "cell_type": "code",
   "execution_count": 29,
   "id": "d8c35123-f051-4f48-82dc-5aa60ffc8ee3",
   "metadata": {
    "tags": []
   },
   "outputs": [
    {
     "name": "stdout",
     "output_type": "stream",
     "text": [
      "2\n",
      "3\n",
      "4\n",
      "5\n",
      "6\n",
      "7\n",
      "8\n"
     ]
    }
   ],
   "source": [
    "for i in range(2,9):\n",
    "    print(i)"
   ]
  },
  {
   "cell_type": "code",
   "execution_count": 30,
   "id": "a2f31305-8aa8-40d1-8c55-c9ae3bd48043",
   "metadata": {
    "tags": []
   },
   "outputs": [
    {
     "name": "stdout",
     "output_type": "stream",
     "text": [
      "0\n",
      "3\n",
      "6\n",
      "9\n",
      "12\n",
      "15\n",
      "18\n",
      "21\n",
      "24\n",
      "27\n",
      "30\n",
      "33\n",
      "36\n",
      "39\n",
      "42\n",
      "45\n",
      "48\n"
     ]
    }
   ],
   "source": [
    "for i in range(0,51):\n",
    "    if i % 3 == 0:\n",
    "        print(i)"
   ]
  },
  {
   "cell_type": "code",
   "execution_count": 32,
   "id": "58418824-0697-4064-9218-1323934caffa",
   "metadata": {
    "tags": []
   },
   "outputs": [
    {
     "name": "stdout",
     "output_type": "stream",
     "text": [
      "0\n",
      "2\n",
      "4\n",
      "6\n",
      "8\n",
      "10\n",
      "12\n",
      "14\n",
      "16\n",
      "18\n",
      "20\n",
      "22\n",
      "24\n",
      "26\n",
      "28\n",
      "30\n",
      "32\n",
      "34\n",
      "36\n",
      "38\n",
      "40\n",
      "42\n",
      "44\n",
      "46\n",
      "48\n",
      "50\n",
      "52\n",
      "54\n",
      "56\n",
      "58\n",
      "60\n",
      "62\n",
      "64\n",
      "66\n",
      "68\n",
      "70\n",
      "72\n",
      "74\n",
      "76\n",
      "78\n",
      "80\n",
      "82\n",
      "84\n",
      "86\n",
      "88\n",
      "90\n",
      "92\n",
      "94\n",
      "96\n",
      "98\n",
      "100\n"
     ]
    }
   ],
   "source": [
    "for i in range(0,101):\n",
    "    if i % 2 == 0:\n",
    "        print(i)"
   ]
  },
  {
   "cell_type": "code",
   "execution_count": 35,
   "id": "30f81a76-a376-4b99-9657-0ce2388d1216",
   "metadata": {
    "tags": []
   },
   "outputs": [
    {
     "name": "stdout",
     "output_type": "stream",
     "text": [
      "0\n",
      "2\n",
      "4\n",
      "6\n",
      "8\n",
      "10\n",
      "12\n",
      "14\n",
      "16\n",
      "18\n",
      "20\n",
      "22\n",
      "24\n",
      "26\n",
      "28\n",
      "30\n",
      "32\n",
      "34\n",
      "36\n",
      "38\n",
      "40\n",
      "42\n",
      "44\n",
      "46\n",
      "48\n",
      "50\n",
      "52\n",
      "54\n",
      "56\n",
      "58\n",
      "60\n",
      "62\n",
      "64\n",
      "66\n",
      "68\n",
      "70\n",
      "72\n",
      "74\n",
      "76\n",
      "78\n",
      "80\n",
      "82\n",
      "84\n",
      "86\n",
      "88\n",
      "90\n",
      "92\n",
      "94\n",
      "96\n",
      "98\n",
      "100\n"
     ]
    }
   ],
   "source": []
  },
  {
   "cell_type": "code",
   "execution_count": 36,
   "id": "a8a4cdcb-8f4b-429e-8912-0f6887106d0b",
   "metadata": {
    "tags": []
   },
   "outputs": [
    {
     "name": "stdout",
     "output_type": "stream",
     "text": [
      "1\n",
      "3\n",
      "5\n",
      "7\n",
      "9\n",
      "11\n",
      "13\n",
      "15\n",
      "17\n",
      "19\n",
      "21\n",
      "23\n",
      "25\n",
      "27\n",
      "29\n",
      "31\n",
      "33\n",
      "35\n",
      "37\n",
      "39\n",
      "41\n",
      "43\n",
      "45\n",
      "47\n",
      "49\n",
      "51\n",
      "53\n",
      "55\n",
      "57\n",
      "59\n",
      "61\n",
      "63\n",
      "65\n",
      "67\n",
      "69\n",
      "71\n",
      "73\n",
      "75\n",
      "77\n",
      "79\n",
      "81\n",
      "83\n",
      "85\n",
      "87\n",
      "89\n",
      "91\n",
      "93\n",
      "95\n",
      "97\n",
      "99\n"
     ]
    }
   ],
   "source": [
    "for i in range(0,101):\n",
    "    if i % 2 == 1:\n",
    "        print(i)"
   ]
  },
  {
   "cell_type": "code",
   "execution_count": 39,
   "id": "5414e105-cf8a-4f5a-a50c-9544ea894e30",
   "metadata": {
    "tags": []
   },
   "outputs": [
    {
     "name": "stdout",
     "output_type": "stream",
     "text": [
      "0\n",
      "1\n",
      "3\n",
      "4\n",
      "5\n",
      "6\n",
      "7\n",
      "8\n",
      "9\n",
      "10\n",
      "12\n",
      "13\n",
      "14\n",
      "15\n",
      "16\n",
      "17\n",
      "18\n",
      "19\n",
      "21\n",
      "22\n",
      "23\n",
      "24\n",
      "25\n",
      "26\n",
      "27\n",
      "28\n",
      "30\n",
      "31\n",
      "32\n",
      "33\n",
      "34\n",
      "35\n",
      "36\n",
      "37\n",
      "39\n",
      "40\n",
      "41\n",
      "42\n",
      "43\n",
      "44\n",
      "45\n",
      "46\n",
      "48\n",
      "49\n",
      "50\n",
      "51\n",
      "52\n",
      "53\n",
      "54\n",
      "55\n",
      "57\n",
      "58\n",
      "59\n",
      "60\n",
      "61\n",
      "62\n",
      "63\n",
      "64\n",
      "66\n",
      "67\n",
      "68\n",
      "69\n",
      "70\n",
      "71\n",
      "72\n",
      "73\n",
      "75\n",
      "76\n",
      "77\n",
      "78\n",
      "79\n",
      "80\n",
      "81\n",
      "82\n",
      "84\n",
      "85\n",
      "86\n",
      "87\n",
      "88\n",
      "89\n",
      "90\n",
      "91\n",
      "93\n",
      "94\n",
      "95\n",
      "96\n",
      "97\n",
      "98\n",
      "99\n",
      "100\n"
     ]
    }
   ],
   "source": [
    "for i in range(0,101):\n",
    "    if i % 9 != 2:\n",
    "        print(i)"
   ]
  },
  {
   "cell_type": "code",
   "execution_count": 40,
   "id": "2474b1e6-8ab3-46dc-8212-8ef9438b267c",
   "metadata": {
    "tags": []
   },
   "outputs": [
    {
     "name": "stdout",
     "output_type": "stream",
     "text": [
      "9\n",
      "27\n",
      "45\n"
     ]
    }
   ],
   "source": [
    "for i in range(1, 51,2):\n",
    "    if i % 9 == 0:\n",
    "        print(i)\n",
    " "
   ]
  },
  {
   "cell_type": "code",
   "execution_count": 53,
   "id": "0cf03e2a-1809-4be2-b12b-71c8542b9abb",
   "metadata": {
    "tags": []
   },
   "outputs": [
    {
     "ename": "SyntaxError",
     "evalue": "invalid syntax (1032685004.py, line 4)",
     "output_type": "error",
     "traceback": [
      "\u001b[1;36m  Cell \u001b[1;32mIn[53], line 4\u001b[1;36m\u001b[0m\n\u001b[1;33m    elif i % 5 == 0:\u001b[0m\n\u001b[1;37m    ^\u001b[0m\n\u001b[1;31mSyntaxError\u001b[0m\u001b[1;31m:\u001b[0m invalid syntax\n"
     ]
    }
   ],
   "source": [
    "for i in range(1,100):\n",
    "    if i % 3 == 0: \n",
    "        print(\"Fizz\")\n",
    "        elif i % 5 == 0:\n",
    "            print(\"Buzz\")\n",
    "        elif i % 3 == 0 and i % 5 == 0:\n",
    "            print(\"FizzBuzz\")\n",
    "        else:\n",
    "            print(i)\n"
   ]
  },
  {
   "cell_type": "code",
   "execution_count": 54,
   "id": "55cb8c26-9954-45df-8b80-7dbd3fabe70f",
   "metadata": {
    "tags": []
   },
   "outputs": [
    {
     "name": "stdout",
     "output_type": "stream",
     "text": [
      "1\n",
      "2\n",
      "Fizz\n",
      "4\n",
      "Buzz\n",
      "Fizz\n",
      "7\n",
      "8\n",
      "Fizz\n",
      "Buzz\n",
      "11\n",
      "Fizz\n",
      "13\n",
      "14\n",
      "FizzBuzz\n",
      "16\n",
      "17\n",
      "Fizz\n",
      "19\n",
      "Buzz\n",
      "Fizz\n",
      "22\n",
      "23\n",
      "Fizz\n",
      "Buzz\n",
      "26\n",
      "Fizz\n",
      "28\n",
      "29\n",
      "FizzBuzz\n",
      "31\n",
      "32\n",
      "Fizz\n",
      "34\n",
      "Buzz\n",
      "Fizz\n",
      "37\n",
      "38\n",
      "Fizz\n",
      "Buzz\n",
      "41\n",
      "Fizz\n",
      "43\n",
      "44\n",
      "FizzBuzz\n",
      "46\n",
      "47\n",
      "Fizz\n",
      "49\n",
      "Buzz\n",
      "Fizz\n",
      "52\n",
      "53\n",
      "Fizz\n",
      "Buzz\n",
      "56\n",
      "Fizz\n",
      "58\n",
      "59\n",
      "FizzBuzz\n",
      "61\n",
      "62\n",
      "Fizz\n",
      "64\n",
      "Buzz\n",
      "Fizz\n",
      "67\n",
      "68\n",
      "Fizz\n",
      "Buzz\n",
      "71\n",
      "Fizz\n",
      "73\n",
      "74\n",
      "FizzBuzz\n",
      "76\n",
      "77\n",
      "Fizz\n",
      "79\n",
      "Buzz\n",
      "Fizz\n",
      "82\n",
      "83\n",
      "Fizz\n",
      "Buzz\n",
      "86\n",
      "Fizz\n",
      "88\n",
      "89\n",
      "FizzBuzz\n",
      "91\n",
      "92\n",
      "Fizz\n",
      "94\n",
      "Buzz\n",
      "Fizz\n",
      "97\n",
      "98\n",
      "Fizz\n"
     ]
    }
   ],
   "source": [
    "for i in range(1, 100):\n",
    "    if i % 3 == 0 and i % 5 == 0:\n",
    "        print(\"FizzBuzz\")\n",
    "    elif i % 3 == 0:\n",
    "        print(\"Fizz\")\n",
    "    elif i % 5 == 0:\n",
    "        print(\"Buzz\")\n",
    "    else:\n",
    "        print(i)"
   ]
  },
  {
   "cell_type": "code",
   "execution_count": 55,
   "id": "2fbae9d6-09e8-4fce-8b42-63a935252a4e",
   "metadata": {
    "tags": []
   },
   "outputs": [
    {
     "name": "stdout",
     "output_type": "stream",
     "text": [
      "['apple', 'banana', 'cherry']\n",
      "['apple', 'blackcurrant', 'cherry']\n"
     ]
    }
   ],
   "source": [
    "thislist = [\"apple\", \"banana\", \"cherry\"]\n",
    "print(thislist)\n",
    "thislist[1] = \"blackcurrant\"\n",
    "print(thislist)"
   ]
  },
  {
   "cell_type": "code",
   "execution_count": 56,
   "id": "dffb24cd-8e40-4fb7-b670-46634eddfec1",
   "metadata": {
    "tags": []
   },
   "outputs": [
    {
     "name": "stdout",
     "output_type": "stream",
     "text": [
      "['apple', 'banana', 'cherry']\n",
      "['apple', 'banana', 'cherry', 'orange']\n"
     ]
    }
   ],
   "source": [
    "thislist = [\"apple\", \"banana\", \"cherry\"]\n",
    "print(thislist)\n",
    "thislist.append(\"orange\")\n",
    "print(thislist)"
   ]
  },
  {
   "cell_type": "code",
   "execution_count": 61,
   "id": "5104628b-f059-4c61-972f-63ca4ea3f96c",
   "metadata": {
    "tags": []
   },
   "outputs": [
    {
     "name": "stdout",
     "output_type": "stream",
     "text": [
      "['apple', 'banana', 'cherry']\n",
      "['apple', 'banana', 'orange', 'cherry']\n"
     ]
    }
   ],
   "source": [
    "thislist = [\"apple\", \"banana\", \"cherry\"]\n",
    "print(thislist)\n",
    "thislist.insert(2,\"orange\")\n",
    "print(thislist)"
   ]
  },
  {
   "cell_type": "code",
   "execution_count": 68,
   "id": "93b08b7b-b73f-47da-b8c4-2fe19cf2b33e",
   "metadata": {
    "tags": []
   },
   "outputs": [
    {
     "name": "stdout",
     "output_type": "stream",
     "text": [
      "['orange', 'cherry', 'banana', 'apple']\n"
     ]
    }
   ],
   "source": [
    "thislist.reverse()\n",
    "print(thislist)"
   ]
  },
  {
   "cell_type": "code",
   "execution_count": 69,
   "id": "d3e778fe-67f2-4baf-b297-ae9a4e132028",
   "metadata": {
    "tags": []
   },
   "outputs": [
    {
     "name": "stdout",
     "output_type": "stream",
     "text": [
      "['apple', 'banana', 'cherry', 'orange']\n"
     ]
    }
   ],
   "source": [
    "thislist.sort()\n",
    "print(thislist)"
   ]
  },
  {
   "cell_type": "code",
   "execution_count": 64,
   "id": "60030ce2-8291-4eec-819d-25591f65b90c",
   "metadata": {
    "tags": []
   },
   "outputs": [
    {
     "name": "stdout",
     "output_type": "stream",
     "text": [
      "['apple', 'banana', 'cherry', 'orange']\n"
     ]
    }
   ],
   "source": [
    "print(thislist)"
   ]
  },
  {
   "cell_type": "code",
   "execution_count": null,
   "id": "4bfff78c-1e1f-47a4-a9d5-e2b6f2bf00c1",
   "metadata": {},
   "outputs": [],
   "source": [
    "thislist.pop(2)\n",
    "print(thislist)"
   ]
  },
  {
   "cell_type": "code",
   "execution_count": 75,
   "id": "51ee7c38-6515-4c31-a30c-b05f422543e8",
   "metadata": {
    "tags": []
   },
   "outputs": [
    {
     "name": "stdout",
     "output_type": "stream",
     "text": [
      "('apple', 'banana', 'cherry')\n"
     ]
    }
   ],
   "source": [
    "mytuple = (\"apple\",\"banana\",\"cherry\")\n",
    "print(mytuple)"
   ]
  },
  {
   "cell_type": "code",
   "execution_count": 76,
   "id": "b9476686-c15c-4c46-84d7-c46151b57546",
   "metadata": {
    "tags": []
   },
   "outputs": [
    {
     "name": "stdout",
     "output_type": "stream",
     "text": [
      "(1, 2, 4, 8)\n",
      "(1.0, 0.5, 0.25, 0.125)\n"
     ]
    }
   ],
   "source": [
    "tuple_1 = (1,2,4,8)\n",
    "tuple_2 = 1.,.5,.25,.125\n",
    "print(tuple_1)\n",
    "print(tuple_2)\n"
   ]
  },
  {
   "cell_type": "code",
   "execution_count": 77,
   "id": "bb6096a4-c127-4091-b95f-515e099d27cf",
   "metadata": {
    "tags": []
   },
   "outputs": [],
   "source": [
    "myname = \"Yusuf\"\n",
    "\n",
    "namelist = list(myname)\n",
    "\n",
    "nametuple = tuple(myname)"
   ]
  },
  {
   "cell_type": "code",
   "execution_count": 78,
   "id": "e2d9931a-497e-41ba-a078-f8af223d5ca8",
   "metadata": {
    "tags": []
   },
   "outputs": [
    {
     "name": "stdout",
     "output_type": "stream",
     "text": [
      "{'apple', 'mango', 'banana', 'peach', 'cherry', 'watermelon'}\n"
     ]
    }
   ],
   "source": [
    "mySet= {\"apple\", \"banana\", \"cherry\", \"mango\", \"watermelon\", \"peach\"} \n",
    "print(mySet)"
   ]
  },
  {
   "cell_type": "code",
   "execution_count": 79,
   "id": "dbb894d1-31bf-484d-9add-891c3a34e25e",
   "metadata": {
    "tags": []
   },
   "outputs": [
    {
     "name": "stdout",
     "output_type": "stream",
     "text": [
      "{'brand': 'Ford', 'model': 'Mustang', 'year': 1969}\n"
     ]
    }
   ],
   "source": [
    "mydict = {\n",
    "    \"brand\" : \"Ford\",\n",
    "    \"model\" : \"Mustang\",\n",
    "    \"year\" : 1969\n",
    "}\n",
    " \n",
    "print(mydict)"
   ]
  },
  {
   "cell_type": "code",
   "execution_count": 80,
   "id": "1b37e7aa-9968-4517-8579-08f96cd7f2e9",
   "metadata": {
    "tags": []
   },
   "outputs": [
    {
     "data": {
      "text/plain": [
       "'Ford'"
      ]
     },
     "execution_count": 80,
     "metadata": {},
     "output_type": "execute_result"
    }
   ],
   "source": [
    "mydict[\"brand\"]"
   ]
  },
  {
   "cell_type": "code",
   "execution_count": null,
   "id": "c02deb19-be02-4474-9e6a-5b37f67eac74",
   "metadata": {},
   "outputs": [],
   "source": [
    "counter = 1\n",
    "\n",
    "while counter < 16:\n",
    "    print(counter)\n",
    "    counter += 1"
   ]
  }
 ],
 "metadata": {
  "kernelspec": {
   "display_name": "Python 3 (ipykernel)",
   "language": "python",
   "name": "python3"
  },
  "language_info": {
   "codemirror_mode": {
    "name": "ipython",
    "version": 3
   },
   "file_extension": ".py",
   "mimetype": "text/x-python",
   "name": "python",
   "nbconvert_exporter": "python",
   "pygments_lexer": "ipython3",
   "version": "3.11.5"
  }
 },
 "nbformat": 4,
 "nbformat_minor": 5
}
