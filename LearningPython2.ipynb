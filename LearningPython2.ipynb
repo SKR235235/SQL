{
 "cells": [
  {
   "cell_type": "code",
   "execution_count": 3,
   "id": "870a3db7-a2f6-49d4-91a3-2df24131623f",
   "metadata": {
    "tags": []
   },
   "outputs": [
    {
     "name": "stdout",
     "output_type": "stream",
     "text": [
      "30\n"
     ]
    }
   ],
   "source": [
    "age = 20\n",
    "price = 19.95\n",
    "first_name = \"Mosh\"\n",
    "is_online = False\n",
    "print(age"
   ]
  },
  {
   "cell_type": "code",
   "execution_count": 5,
   "id": "c671f729-13f5-4ca8-b79e-f5755466b7f2",
   "metadata": {
    "tags": []
   },
   "outputs": [
    {
     "name": "stdin",
     "output_type": "stream",
     "text": [
      "What is your name?  John\n"
     ]
    },
    {
     "name": "stdout",
     "output_type": "stream",
     "text": [
      "HelloJohn\n"
     ]
    }
   ],
   "source": [
    "name = input(\"What is your name? \")\n",
    "print(\"Hello \" + name)"
   ]
  },
  {
   "cell_type": "code",
   "execution_count": 14,
   "id": "94911606-ceb4-4f58-9ab6-ceff5fbb7948",
   "metadata": {
    "tags": []
   },
   "outputs": [
    {
     "name": "stdin",
     "output_type": "stream",
     "text": [
      "First:  10\n",
      "Second:  20\n"
     ]
    },
    {
     "ename": "TypeError",
     "evalue": "'float' object is not callable",
     "output_type": "error",
     "traceback": [
      "\u001b[1;31m---------------------------------------------------------------------------\u001b[0m",
      "\u001b[1;31mTypeError\u001b[0m                                 Traceback (most recent call last)",
      "Cell \u001b[1;32mIn[14], line 4\u001b[0m\n\u001b[0;32m      2\u001b[0m second \u001b[38;5;241m=\u001b[39m \u001b[38;5;28minput\u001b[39m(\u001b[38;5;124m\"\u001b[39m\u001b[38;5;124mSecond: \u001b[39m\u001b[38;5;124m\"\u001b[39m)\n\u001b[0;32m      3\u001b[0m \u001b[38;5;28msum\u001b[39m \u001b[38;5;241m=\u001b[39m \u001b[38;5;28mfloat\u001b[39m(first) \u001b[38;5;241m+\u001b[39m \u001b[38;5;28mfloat\u001b[39m(second)\n\u001b[1;32m----> 4\u001b[0m \u001b[38;5;28mprint\u001b[39m(\u001b[38;5;124m\"\u001b[39m\u001b[38;5;124mSum: \u001b[39m\u001b[38;5;124m\"\u001b[39m \u001b[38;5;241m+\u001b[39m \u001b[38;5;28mstr\u001b[39m(\u001b[38;5;28msum\u001b[39m))\n",
      "\u001b[1;31mTypeError\u001b[0m: 'float' object is not callable"
     ]
    }
   ],
   "source": [
    "first = input(\"First: \")\n",
    "second = input(\"Second: \")\n",
    "sum = float(first) + float(second)\n",
    "print(\"Sum: \" + str(sum))"
   ]
  },
  {
   "cell_type": "code",
   "execution_count": 16,
   "id": "0123acfd-c102-4f7d-bd4b-41b4353c12b2",
   "metadata": {
    "tags": []
   },
   "outputs": [
    {
     "name": "stdin",
     "output_type": "stream",
     "text": [
      "First:  10\n",
      "Second:  20\n"
     ]
    },
    {
     "ename": "TypeError",
     "evalue": "'float' object is not callable",
     "output_type": "error",
     "traceback": [
      "\u001b[1;31m---------------------------------------------------------------------------\u001b[0m",
      "\u001b[1;31mTypeError\u001b[0m                                 Traceback (most recent call last)",
      "Cell \u001b[1;32mIn[16], line 12\u001b[0m\n\u001b[0;32m      9\u001b[0m     \u001b[38;5;66;03m# Calculate the sum\u001b[39;00m\n\u001b[0;32m     10\u001b[0m     sum_result \u001b[38;5;241m=\u001b[39m first_float \u001b[38;5;241m+\u001b[39m second_float\n\u001b[1;32m---> 12\u001b[0m     \u001b[38;5;28mprint\u001b[39m(\u001b[38;5;124m\"\u001b[39m\u001b[38;5;124mSum:\u001b[39m\u001b[38;5;124m\"\u001b[39m, sum_result)\n\u001b[0;32m     14\u001b[0m \u001b[38;5;28;01mexcept\u001b[39;00m \u001b[38;5;167;01mValueError\u001b[39;00m:\n\u001b[0;32m     15\u001b[0m     \u001b[38;5;28mprint\u001b[39m(\u001b[38;5;124m\"\u001b[39m\u001b[38;5;124mError: Please enter valid numeric values.\u001b[39m\u001b[38;5;124m\"\u001b[39m)\n",
      "\u001b[1;31mTypeError\u001b[0m: 'float' object is not callable"
     ]
    }
   ],
   "source": [
    "try:\n",
    "    first = input(\"First: \")\n",
    "    second = input(\"Second: \")\n",
    "    \n",
    "    # Convert input to float\n",
    "    first_float = float(first)\n",
    "    second_float = float(second)\n",
    "\n",
    "    # Calculate the sum\n",
    "    sum_result = first_float + second_float\n",
    "\n",
    "    print(\"Sum:\", sum_result)\n",
    "\n",
    "except ValueError:\n",
    "    print(\"Error: Please enter valid numeric values.\")"
   ]
  },
  {
   "cell_type": "code",
   "execution_count": null,
   "id": "ed0012c7-672b-4675-b396-068d677c302c",
   "metadata": {},
   "outputs": [],
   "source": [
    "radius = input(\"\")\n",
    "area = 3.14159 * radius**2\n",
    "\n",
    "print(area)"
   ]
  },
  {
   "cell_type": "code",
   "execution_count": null,
   "id": "b31f1726-29a4-4b2b-a78d-ec6cd35ceeb8",
   "metadata": {},
   "outputs": [],
   "source": [
    "counter = 1\n",
    "\n",
    "while counter < 16:\n",
    "    print(counter)\n",
    "    counter += 1"
   ]
  },
  {
   "cell_type": "code",
   "execution_count": null,
   "id": "2c70095a-cf30-4ff6-a4f5-4c09d8cf6813",
   "metadata": {},
   "outputs": [],
   "source": []
  }
 ],
 "metadata": {
  "kernelspec": {
   "display_name": "Python 3 (ipykernel)",
   "language": "python",
   "name": "python3"
  },
  "language_info": {
   "codemirror_mode": {
    "name": "ipython",
    "version": 3
   },
   "file_extension": ".py",
   "mimetype": "text/x-python",
   "name": "python",
   "nbconvert_exporter": "python",
   "pygments_lexer": "ipython3",
   "version": "3.11.5"
  }
 },
 "nbformat": 4,
 "nbformat_minor": 5
}
